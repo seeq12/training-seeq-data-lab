{
 "cells": [
  {
   "cell_type": "markdown",
   "id": "95bb3356",
   "metadata": {},
   "source": [
    "# SDL.3 Building Asset Trees\n",
    "\n",
    "### Objective: Learn how to build an asset tree using a CSV file and modify the asset tree with calculations and roll-up statistics.  Push the completed asset tree to the Seeq Server.\n",
    "\n",
    "### Scenario: You have developed an algorithm to calculate the health of a Cooling Tower based on temperature data within each area. In the final step, you would like to organize the data in an Asset Tree, so the team has  access to the raw and calculated data for monitoring.\n",
    "\n",
    "<div class=\"alert alert-block alert-warning\">\n",
    "<b>Discussion Topic:</b> What is an Asset Tree?\n",
    "        <details>\n",
    "    <summary>✼</summary>\n",
    "            \n",
    "### Asset Trees Introduction\n",
    "\n",
    "Asset trees are a foundational tool that can be used to wrangle the full analytic capabilities of Seeq's software. They sort physical locations, pieces of equipment, and data on that equipment into a hierarchical structure. Organizing your data into an asset tree allows you to:\n",
    "- Utilize asset swapping to rapidly create identical visualizations for different pieces of equipment\n",
    "- Write high-value calculations for your components and scale them across all components in your tree\n",
    "- Automatically generate scalable content and custom analyses\n",
    "- Use your tree as a starting point for roll-ups, calculations, displays, dashboards, and reports\n",
    "            \n",
    "</details>\n",
    "</div>\n",
    "\n",
    "\n",
    "## Step 0: Defining an Asset Tree\n",
    "\n",
    "There are multiple ways to define an asset tree in SPy using the: `spy.assets.Tree()`.\n",
    "\n",
    "<div class=\"alert alert-block alert-success\">\n",
    "<b>Instructor Note:</b> Review the three ways of <a href =\"https://python-docs.seeq.com/user_guide/spy.assets/Asset%20Trees%201%20-%20Introduction.html#defining-an-asset-tree\">Defining an Asset Tree</a>    \n",
    "</div>\n",
    "\n",
    "\n",
    "\n",
    "\n",
    "Click the link for more information on [spy.assets](https://python-docs.seeq.com/user_guide/spy.assets/index.html)\n",
    "\n",
    "\n",
    "## Step 1: Build a CSV File\n",
    "In this course, we will start by creating a tree with a custom structure defined by a CSV (comma-separated values) file. When this file is given as input to `spy.assets.Tree`, SPy will look at each row in the file, find an item in Seeq corresponding to the row, and place it into a newly created asset tree at the specified location.\n",
    "\n",
    "The following columns are required in your CSV file.  \n",
    "- **Name** tells SPy what item to pull from the Seeq Server.\n",
    "- **Level** tells SPy where in the tree to put the item.\n",
    "  - If a level column is empty for a particular row, then the rows above are referred to. For example, the third row above has levels *My CSV Tree*, *Cooling Tower 1*, and *Area B*.\n",
    "- **Friendly Name** tells SPy what to call the item after putting it in the tree.\n",
    "- **ID** <i>(optional)</i> column can help SPy find items from Seeq Server that don't have unique names.\n",
    "\n",
    "| Name                     | Level 1     | Level 2         | Level 3 | Friendly Name     |\n",
    "|--------------------------|-------------|-----------------|---------|-------------------|\n",
    "| Area A_Temperature | My CSV Tree | Cooling Tower 1 | Area A  | Temperature       |\n",
    "| Area B_Temperature |             |                 | Area B  | Temperature       |\n",
    "| Area C_Temperature |             |                 | Area C  | Temperature       |\n",
    "| Area D_Temperature |             | Cooling Tower 2 | Area D  | Temperature      |\n",
    "| Area E_Temperature |             |                 | Area E  | Temperature      |\n",
    "\n"
   ]
  },
  {
   "cell_type": "code",
   "execution_count": null,
   "id": "ce548fa5",
   "metadata": {
    "scrolled": true
   },
   "outputs": [],
   "source": [
    "my_csv_tree = spy.assets.Tree('spy_tree_example_r6.csv')\n",
    "my_csv_tree.visualize()"
   ]
  },
  {
   "cell_type": "markdown",
   "id": "abf8479d",
   "metadata": {},
   "source": [
    "<div class=\"alert alert-block alert-warning\">\n",
    "<b>Discussion Topic:</b> When would you want to use the ID column instead of the Name column?\n",
    "</div>\n",
    "\n",
    "\n",
    "Let's push the asset tree to Seeq and explore how it looks in Workbench."
   ]
  },
  {
   "cell_type": "code",
   "execution_count": null,
   "id": "ed27f219",
   "metadata": {},
   "outputs": [],
   "source": [
    "my_csv_tree.push()"
   ]
  },
  {
   "cell_type": "markdown",
   "id": "7ad71194",
   "metadata": {},
   "source": [
    "<div class=\"alert alert-block alert-warning\">\n",
    "<b>Discussion Topic:</b> Where is this asset tree scoped and how can we change it?\n",
    "        <details>\n",
    "    <summary>✼</summary>\n",
    "<i>The asset tree is scoped to <tt>workbook='Data Lab >> Data Lab Analysis' </tt> (ref Function Documentation). </i>\n",
    "</details>\n",
    "</div>\n",
    "\n",
    "**Optional Exercise:** Scope the asset tree to a new location to demonstrate how scoping affects the location of the tree. `workbook='Data Lab >> New Location'`\n",
    "\n",
    "***\n",
    "\n",
    "## Step 2:  Insert a Calculation\n",
    "\n",
    "The next step to building your asset tree is to add more items to it using the `.insert()` function.\n",
    "\n",
    "\n",
    "<div class=\"alert alert-block alert-success\">\n",
    "<b>Instructor Note:</b> Review the three ways of <a href =\"https://python-docs.seeq.com/user_guide/spy.assets/Asset%20Trees%201%20-%20Introduction.html#inserting-items-into-the-tree\"> Inserting Items into the Tree</a>    \n",
    "</div>\n",
    "\n",
    "\n",
    "\n",
    "Let’s start by inserting a calculation. A calculation requires a name, a formula, and a collection of formula parameters. The formula is written in [Seeq Formula Language](https://support.seeq.com/space/KB/143884328/Formula), and the formula parameters assign variables in the formula to items in your tree.\n",
    "\n",
    "As we mentioned in SDL.1, you can apply formulas at scale.  Let’s apply the formula provided by the engineers from SDL.1.\n",
    "\n",
    "`'$signal.remove((($signal < 0).merge(15min))).agilefilter(5min)'`\n",
    "\n",
    "<div class=\"alert alert-block alert-info\">\n",
    "    <b>Tip:</b> To show the docstring in pager mode press <tt>shift + tab</tt> four times.\n",
    "</div>"
   ]
  },
  {
   "cell_type": "code",
   "execution_count": null,
   "id": "f0cf4dd3",
   "metadata": {},
   "outputs": [],
   "source": [
    "my_csv_tree.insert(name='Temperature Cleansed',\n",
    "               formula='$signal.remove((($signal < 0).merge(15min))).agilefilter(5min)',\n",
    "               formula_parameters={'$signal': 'Temperature'},\n",
    "               parent='Area ?')\n",
    "my_csv_tree.visualize()"
   ]
  },
  {
   "cell_type": "markdown",
   "id": "5521a28c",
   "metadata": {},
   "source": [
    "***\n",
    "\n",
    "## Step 3: Insert a Condition\n",
    "Similarly, we can add conditions into the asset tree. "
   ]
  },
  {
   "cell_type": "code",
   "execution_count": null,
   "id": "26d25b54",
   "metadata": {},
   "outputs": [],
   "source": [
    "my_csv_tree.insert(name='Too Hot',\n",
    "               formula='$signal > 100',\n",
    "               formula_parameters={'$signal': 'Temperature Cleansed'},\n",
    "               parent='Area ?')\n",
    "my_csv_tree.visualize()"
   ]
  },
  {
   "cell_type": "markdown",
   "id": "83ec1f72",
   "metadata": {},
   "source": [
    "***\n",
    "\n",
    "## Step 4: Insert a Roll-up Calculation\n",
    "\n",
    "**Roll-up calculations** are a great way to evaluate summary statistics across multiple assets in your tree in order to monitor the health and performance of your assets. To insert a roll-up calculation, use the `roll_up_statistic` and `roll_up_parameters` inputs to the `insert()` function."
   ]
  },
  {
   "cell_type": "code",
   "execution_count": null,
   "id": "a58562b4",
   "metadata": {},
   "outputs": [],
   "source": [
    "my_csv_tree.insert(name='Average Temperature of All Areas',\n",
    "                   roll_up_statistic='Average',\n",
    "                   roll_up_parameters='Area ? >> Temperature Cleansed',\n",
    "                   parent='Cooling Tower ?')\n",
    "my_csv_tree"
   ]
  },
  {
   "cell_type": "markdown",
   "id": "4c1fa854",
   "metadata": {},
   "source": [
    "***\n",
    "\n",
    "## Step 5: Insert a Signal\n",
    "Let's add in the Health Score calculated from SDL.2 into our tree. First, let's search for the signal, and then insert it into our tree. \n",
    "\n",
    "<div class=\"alert alert-block alert-success\">\n",
    "<b>Instructor Note:</b> If you didn't complete SDL.2, Step 5 can be skipped.\n",
    "</div>"
   ]
  },
  {
   "cell_type": "code",
   "execution_count": null,
   "id": "46e7e831",
   "metadata": {},
   "outputs": [],
   "source": [
    "search_results = spy.search(query = {'Name': 'CT1 Health Score'})\n",
    "\n",
    "search_results"
   ]
  },
  {
   "cell_type": "code",
   "execution_count": null,
   "id": "58cb0e22",
   "metadata": {},
   "outputs": [],
   "source": [
    "my_csv_tree.insert(children=search_results,\n",
    "               friendly_name='CT1 Health Score',\n",
    "               parent='Cooling Tower 1')\n",
    "\n",
    "my_csv_tree.visualize()"
   ]
  },
  {
   "cell_type": "markdown",
   "id": "dbd0cce0",
   "metadata": {},
   "source": [
    "Perform the same steps for Cooling Tower 2"
   ]
  },
  {
   "cell_type": "code",
   "execution_count": null,
   "id": "3b6b183d",
   "metadata": {},
   "outputs": [],
   "source": [
    "search_results = spy.search(query = {'Name': 'CT2 Health Score'})\n",
    "\n",
    "my_csv_tree.insert(children=search_results,\n",
    "               friendly_name='CT2 Health Score',\n",
    "               parent='Cooling Tower 2')\n",
    "\n",
    "my_csv_tree.visualize()"
   ]
  },
  {
   "cell_type": "markdown",
   "id": "86c727f3",
   "metadata": {},
   "source": [
    "<div class=\"alert alert-block alert-warning\">\n",
    "<b>Discussion Topic:</b> When should you use Asset Groups in Seeq Workbench, vs asset trees in Data Lab? \n",
    "            <details>\n",
    "    <summary>✼</summary>\n",
    "<i> When thinking about building assets, you want to consider the number of assets you are working with and how many levels you want to create. Asset groups can only create a single level tree; however they require no code and can leverage existing asset trees.  Asset trees can be scaled to 1000s of assets and be multi level. </i>\n",
    "</details>\n",
    "</div>\n",
    "    \n",
    "\n",
    "***\n",
    "\n",
    "## Step 6: Pushing a Tree\n",
    "\n",
    "The last step to working with an asset tree in SPy is to push your changes to Seeq! "
   ]
  },
  {
   "cell_type": "code",
   "execution_count": null,
   "id": "41aca579",
   "metadata": {},
   "outputs": [],
   "source": [
    "my_csv_tree.push()"
   ]
  },
  {
   "cell_type": "markdown",
   "id": "4ccc3bd5",
   "metadata": {},
   "source": [
    "***\n",
    "\n",
    "<div class=\"alert alert-block alert-warning\">\n",
    "<b>Discussion Topic:</b> Can you think about opportunities to use assets trees on something other than assets? \n",
    "     <details>\n",
    "    <summary>✼</summary>\n",
    "         <i>Assets can be used to analyse individual steps of a batch process or even to scale golden profiles. </i>    </details>\n",
    "</div>\n",
    "\n",
    "\n",
    "\n",
    "## SDL.3 Summary\n",
    "\n",
    "The steps above have been combined into one cell. "
   ]
  },
  {
   "cell_type": "code",
   "execution_count": null,
   "id": "f85995e8",
   "metadata": {},
   "outputs": [],
   "source": [
    "#Step 1: Build a CSV File\n",
    "my_csv_tree = spy.assets.Tree('spy_tree_example_r6.csv', workbook='Data Lab Training >> Data Lab Training')\n",
    "\n",
    "#Step 2: Insert a Calculation\n",
    "my_csv_tree.insert(name='Temperature Cleansed',\n",
    "               formula='$signal.removeoutliers()',\n",
    "               formula_parameters={'$signal': 'Temperature'},\n",
    "               parent='Area *')\n",
    "\n",
    "\n",
    "#Step 3: Insert a Condition\n",
    "my_csv_tree.insert(name='Too Hot',\n",
    "               formula='$signal > 100',\n",
    "               formula_parameters={'$signal': 'Temperature'},\n",
    "               parent='Area *')\n",
    "\n",
    "\n",
    "#Step 4: Insert a Roll Up Calculation\n",
    "my_csv_tree.insert(name='Average Temperature of All Areas',\n",
    "                   roll_up_statistic='Average',\n",
    "                   roll_up_parameters='Area ? >> Temperature Cleansed',\n",
    "                   parent='Cooling Tower ?')\n",
    "\n",
    "#Step 5: Insert a Signal\n",
    "search_results = spy.search({'Name': 'CT1 Health Score',\n",
    "                             'Type': 'StoredSignal',\n",
    "                             'Datasource Name': 'Seeq Data Lab'\n",
    "                             },workbook ='Data Lab Training >> Workbook Test_D')\n",
    "my_csv_tree.insert(children=search_results,\n",
    "               friendly_name='CT1 Health Score',\n",
    "               parent='Cooling Tower 1')\n",
    "\n",
    "#Step 6: \n",
    "my_csv_tree.push()"
   ]
  },
  {
   "cell_type": "markdown",
   "id": "ad06aea9",
   "metadata": {},
   "source": [
    "***\n",
    "\n",
    "## Step 7. Other Operations on an  Asset Tree (Optional)\n",
    "\n",
    "In the steps above, we inserted calculations (Temperature Cleansed, Too Hot, Roll Up Calculations) and signals (Health Score).\n",
    "\n",
    "In this optional exercise, we will add Cooling Tower 3 and Area G, Area H, Area I. \n"
   ]
  },
  {
   "cell_type": "code",
   "execution_count": null,
   "id": "30b8e524",
   "metadata": {},
   "outputs": [],
   "source": [
    "my_csv_tree.insert(parent='My CSV Tree',children='Cooling Tower 3')\n",
    "my_csv_tree.visualize()"
   ]
  },
  {
   "cell_type": "code",
   "execution_count": null,
   "id": "bd30f310",
   "metadata": {},
   "outputs": [],
   "source": [
    "my_csv_tree.insert(parent='Cooling Tower 3',children=['Area G','Area H','Area I'])\n",
    "my_csv_tree.visualize()"
   ]
  },
  {
   "cell_type": "code",
   "execution_count": null,
   "id": "c80cb004",
   "metadata": {},
   "outputs": [],
   "source": [
    "my_csv_tree.remove('Area I')\n",
    "my_csv_tree.visualize()"
   ]
  },
  {
   "cell_type": "code",
   "execution_count": null,
   "id": "0c4215c3",
   "metadata": {},
   "outputs": [],
   "source": [
    "my_csv_tree.push()"
   ]
  }
 ],
 "metadata": {
  "kernelspec": {
   "display_name": "Python 3 (ipykernel)",
   "language": "python",
   "name": "python3"
  },
  "language_info": {
   "codemirror_mode": {
    "name": "ipython",
    "version": 3
   },
   "file_extension": ".py",
   "mimetype": "text/x-python",
   "name": "python",
   "nbconvert_exporter": "python",
   "pygments_lexer": "ipython3",
   "version": "3.8.13"
  }
 },
 "nbformat": 4,
 "nbformat_minor": 5
}
