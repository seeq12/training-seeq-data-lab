{
 "cells": [
  {
   "attachments": {},
   "cell_type": "markdown",
   "metadata": {},
   "source": [
    "# SDL.0 Jupyter Notebook Overview\n",
    "\n",
    "## Overview\n",
    "Seeq Data Lab is built off of the JupyterLab integrated development environment (IDE). Jupyter contains many features that allows users to efficiently develop their code. For more information, please refer to [JupyterLab Documentation](https://jupyterlab.readthedocs.io/en/stable/index.html). In this exercise, we will familiarize ourselves with the basic features of Jupyter."
   ]
  },
  {
   "attachments": {},
   "cell_type": "markdown",
   "metadata": {},
   "source": [
    "## Cell Types\n",
    "\n",
    "**Markdown** is a *text option* in Jupyter notebook that allows you to add *context to your notebook*. By including Markdown sections in your notebooks, you can:\n",
    "1. Elaborate on the purpose of your code in a visually friendly format\n",
    "2. Include images and hyperlinks that help add context\n",
    "3. Add headings to separate sections of your code for easier reading\n",
    "    \n",
    "To learn more about Markdown syntax, please go to [Markdown Help](https://www.markdownguide.org/basic-syntax/). You can also double click this cell to see the Markdown used here."
   ]
  },
  {
   "cell_type": "code",
   "execution_count": null,
   "metadata": {},
   "outputs": [],
   "source": [
    "# This is a regular Python code cell. The version of python is determined by the version Jupyter is running by \n",
    "#default. Seeq Data Lab runs Python 3.\n",
    "\n",
    "#Press Ctrl + Enter in PC (or Shift + Enter in Mac) to run this code cell.\n",
    "\n",
    "print (\"Seeq Data Lab\")"
   ]
  },
  {
   "cell_type": "raw",
   "metadata": {},
   "source": [
    "Raw NBConvert is raw text without any formatting. Its mainly used when looking to convert the Jupyter notebook into another format (Latex, HTML, etc.)"
   ]
  },
  {
   "attachments": {},
   "cell_type": "markdown",
   "metadata": {},
   "source": [
    "## Running a Cell\n",
    "One of the most useful shortcuts in Jupyter is **Ctrl + Enter** (or Shift + Enter in Mac), which runs a cell.\n",
    "\n",
    "Try this example using the random module, which contains several functions including the sample() function, which you'll see  again  later."
   ]
  },
  {
   "cell_type": "code",
   "execution_count": null,
   "metadata": {},
   "outputs": [],
   "source": [
    "#Run this cell (Ctrl + Enter, or Shift + Enter in Mac) to import the 'random' module.\n",
    "import random"
   ]
  },
  {
   "attachments": {},
   "cell_type": "markdown",
   "metadata": {},
   "source": [
    "Note: When a cell is running, an asterisk will appear in the brackets to the left of the cell, so it says:\n",
    "\n",
    "`In [*]:`"
   ]
  },
  {
   "attachments": {},
   "cell_type": "markdown",
   "metadata": {},
   "source": [
    "## JupyterLab Modes\n",
    "In JupyterLab there are two different modes of operation, Command and Edit.\n",
    "\n",
    "In <ins>Command Mode</ins>, indicated by an orange bar to the left of a cell, you are unable to modify cells and can only perform notebook operations like running all cells.\n",
    "\n",
    "In <ins>Edit Mode</ins>, indicated by an outlined cell, you can modify the contents of a cell and run that cell.\n",
    "\n",
    "Switch from Command to Edit by clicking the cell (double clicking for a Markdown cell) and from Edit to Command by running the cell or pressing the **Esc** key."
   ]
  },
  {
   "attachments": {},
   "cell_type": "markdown",
   "metadata": {},
   "source": [
    "## Help & Shortcuts\n",
    "Another useful shortcut in Jupyter is **Shift + Tab**. This allows you to see the docstring of a function, which describes the purpose/output of a function and the parameters that must or can be entered in the function. Use **CTRL+I** to open this information in a side window.\n",
    "\n",
    "In the next cell, view the docstring of the 'sample' function.\n",
    "\n",
    "\n",
    "<div class=\"alert alert-block alert-warning\">\n",
    "<b>Discussion Topic:</b> What does the sample() function do? What parameters much be entered?\n",
    "</div>"
   ]
  },
  {
   "cell_type": "code",
   "execution_count": null,
   "metadata": {},
   "outputs": [],
   "source": [
    "#Place your cursor within 'sample()' and press Shift + Tab.\n",
    "random.sample()"
   ]
  },
  {
   "attachments": {},
   "cell_type": "markdown",
   "metadata": {},
   "source": [
    "There are other shortcuts available in Jupyter. While in Command Mode, press H to learn the other shortcuts or click the Help tab in the toolbar towards the top of the notebook. Some examples are\n",
    "\n",
    "In Command Mode:\n",
    "- **CTRL+F** to find and replace\n",
    "- **X** to cut cells\n",
    "- **C** to copy cells\n",
    "- **V** to paste cells\n",
    "\n",
    "in Edit Mode:\n",
    "- **Ctrl + /** to comment multiple highlighted lines"
   ]
  },
  {
   "attachments": {},
   "cell_type": "markdown",
   "metadata": {},
   "source": [
    "## Making, Moving, and Deleting Cells\n",
    "See the buttons at the top of the notebook to add (\"+\" buttton), move (up/down arrows), or delete (scissor button) cells."
   ]
  },
  {
   "cell_type": "code",
   "execution_count": null,
   "metadata": {},
   "outputs": [],
   "source": []
  }
 ],
 "metadata": {
  "kernelspec": {
   "display_name": "Python 3 (ipykernel)",
   "language": "python",
   "name": "python3"
  },
  "language_info": {
   "codemirror_mode": {
    "name": "ipython",
    "version": 3
   },
   "file_extension": ".py",
   "mimetype": "text/x-python",
   "name": "python",
   "nbconvert_exporter": "python",
   "pygments_lexer": "ipython3",
   "version": "3.8.13"
  },
  "toc": {
   "base_numbering": 1,
   "nav_menu": {},
   "number_sections": true,
   "sideBar": true,
   "skip_h1_title": false,
   "title_cell": "Table of Contents",
   "title_sidebar": "Contents",
   "toc_cell": false,
   "toc_position": {},
   "toc_section_display": true,
   "toc_window_display": false
  },
  "varInspector": {
   "cols": {
    "lenName": 16,
    "lenType": 16,
    "lenVar": 40
   },
   "kernels_config": {
    "python": {
     "delete_cmd_postfix": "",
     "delete_cmd_prefix": "del ",
     "library": "var_list.py",
     "varRefreshCmd": "print(var_dic_list())"
    },
    "r": {
     "delete_cmd_postfix": ") ",
     "delete_cmd_prefix": "rm(",
     "library": "var_list.r",
     "varRefreshCmd": "cat(var_dic_list()) "
    }
   },
   "types_to_exclude": [
    "module",
    "function",
    "builtin_function_or_method",
    "instance",
    "_Feature"
   ],
   "window_display": false
  }
 },
 "nbformat": 4,
 "nbformat_minor": 4
}
