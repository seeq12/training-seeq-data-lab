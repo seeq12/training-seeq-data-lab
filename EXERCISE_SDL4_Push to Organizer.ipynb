{
 "cells": [
  {
   "cell_type": "markdown",
   "id": "8e1c146f",
   "metadata": {},
   "source": [
    "## Bonus: Push Image to Organizer\n",
    "\n",
    "So far, we have pushed and pulled data our of Seeq Workbench. In this bonus exercise, you can save an image and push it to an organizer topic."
   ]
  },
  {
   "cell_type": "code",
   "execution_count": null,
   "id": "81054e2d",
   "metadata": {},
   "outputs": [],
   "source": [
    "#search for all signals named 'Area ?_Temperature' in the 'Example Data' Datasource Name\n",
    "search = spy.search(query = {'Name': 'Area ?_Temperature',\n",
    "                     'Datasource Name': 'Example Data'}\n",
    "                    , order_by = 'Name')\n",
    "\n",
    "# The .head() funtion prints the first 5 rows of a dataframe. \n",
    "search.head()"
   ]
  },
  {
   "cell_type": "code",
   "execution_count": null,
   "id": "1f903edf",
   "metadata": {},
   "outputs": [],
   "source": [
    "my_data = spy.pull(items = search, \n",
    "    start='2022-01-01', \n",
    "    end='2022-01-07')\n",
    "\n",
    "my_data.head()"
   ]
  },
  {
   "cell_type": "code",
   "execution_count": null,
   "id": "2d87e12b",
   "metadata": {},
   "outputs": [],
   "source": [
    "my_data.plot()"
   ]
  },
  {
   "cell_type": "code",
   "execution_count": null,
   "id": "573affd9",
   "metadata": {},
   "outputs": [],
   "source": [
    "import matplotlib.pylab as plt\n",
    "my_data.plot()\n",
    "\n",
    "# Save figure into folder\n",
    "plt.savefig('Temp Test.png', dpi=100)"
   ]
  },
  {
   "cell_type": "code",
   "execution_count": null,
   "id": "890a863c",
   "metadata": {},
   "outputs": [],
   "source": [
    "# Start by building an Organizer Topic; here, \"SDL Training\" is the name of the new Topic.\n",
    "topic = spy.workbooks.Topic({'Name': \"SDL Training\"})\n",
    "\n",
    "# Add a page/document to the Topic; the page is named, 'Visualizations Using Data Lab'.\n",
    "page = topic.document('Visualizations Using Data Lab')\n",
    "\n",
    "# Add image to the end of the newly created page.\n",
    "# Note that the semicolon at the end of the line supresses the output of this cell so that it does not show below the cell.\n",
    "page.document.add_image(filename='Temp Test.png', placement='end');\n",
    "\n",
    "#Publish the Topic into Workbench. Access the topic using the link at the right side of the output (if the push is successful).\n",
    "spy.workbooks.push(topic)"
   ]
  }
 ],
 "metadata": {
  "kernelspec": {
   "display_name": "Python 3 (ipykernel)",
   "language": "python",
   "name": "python3"
  },
  "language_info": {
   "codemirror_mode": {
    "name": "ipython",
    "version": 3
   },
   "file_extension": ".py",
   "mimetype": "text/x-python",
   "name": "python",
   "nbconvert_exporter": "python",
   "pygments_lexer": "ipython3",
   "version": "3.8.13"
  }
 },
 "nbformat": 4,
 "nbformat_minor": 5
}
