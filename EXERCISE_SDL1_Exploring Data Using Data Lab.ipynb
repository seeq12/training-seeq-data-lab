{
 "cells": [
  {
   "cell_type": "markdown",
   "id": "ca177cc5",
   "metadata": {},
   "source": [
    "# SDL.1 Exploring Data in Data Lab\n",
    "\n",
    "### Objective: Learn how to search for tags, pull data into a Jupyter notebook, perform a calculation, and push data and formulas to Seeq.\n",
    "\n",
    "### Scenario: You have developed an algorithm to calculate the health of a Cooling Tower based on temperature data within each area.  In the first step, identify the temperature tags, and cleanse the data for input into your algorithm. \n",
    "\n",
    "## Step 0: Import Appropriate Libraries and Set Compatibility\n",
    "\n",
    "When using Data Lab, the Seeq SPy library is imported by default; it is not necessary to do so here.\n",
    "Start by importing other libraries as shown below.\n",
    "\n",
    "It's important to specify what major version of SPy your code was written for to allow it to make choices about what behavior is going to be most compatible in the future. This prevents your code from breaking as SPy continues to get updated. Run `spy.__version__` in a cell to find what version of SPy you have installed."
   ]
  },
  {
   "cell_type": "code",
   "execution_count": null,
   "id": "27314bae",
   "metadata": {},
   "outputs": [],
   "source": [
    "import pandas as pd\n",
    "\n",
    "# Set the compatibility option so that you maximize the chance that SPy will remain compatible with your notebook/script\n",
    "spy.options.compatbility = 188"
   ]
  },
  {
   "cell_type": "markdown",
   "id": "0fc7ea45",
   "metadata": {},
   "source": [
    "<div class=\"alert alert-block alert-info\">\n",
    "    <b>Tip:</b> Press <b>Shift + Enter</b> to run a cell.\n",
    "</div>\n",
    "\n",
    "***\n",
    "\n",
    "## Step 1: Search for data from Seeq\n",
    "\n",
    "Let's search for signals using Seeq's Example Data; finding data on your server will be similar.\n",
    "\n",
    "<div class=\"alert alert-block alert-success\">\n",
    "<b>Instructor Note:</b> Explore the Data Tab in Seeq Workbench. Search for <tt>Area ?_Temperature</tt>, filter the results by the <tt>Example Data</tt>, and order the list alphabetically by <tt>Name</tt>. </div>\n",
    "\n",
    "Now, **search** for the Temperature signals using `spy.search()` function. This will retrieve metadata (information) about all the signals. Click the link for more information on [spy.search](https://python-docs.seeq.com/user_guide/spy.search.html)"
   ]
  },
  {
   "cell_type": "code",
   "execution_count": null,
   "id": "8bd9a71f",
   "metadata": {
    "scrolled": true
   },
   "outputs": [],
   "source": [
    "#search for all signals named 'Area ?_Temperature' in the 'Example Data' Datasource Name\n",
    "search = spy.search(query = {'Name': 'Area ?_Temperature',\n",
    "                     'Datasource Name': 'Example Data'}\n",
    "                    , order_by = 'Name')\n",
    "\n",
    "# The .head() funtion prints the first 5 rows of a dataframe. \n",
    "search.head()"
   ]
  },
  {
   "cell_type": "markdown",
   "id": "75096fb3",
   "metadata": {},
   "source": [
    "<div class=\"alert alert-block alert-info\">\n",
    "<b>Tip:</b> For function documentation, place the cursor in the function and hit <b>Shift + Tab</b>.\n",
    "</div>"
   ]
  },
  {
   "cell_type": "code",
   "execution_count": null,
   "id": "948e6833",
   "metadata": {},
   "outputs": [],
   "source": [
    "# The .head() function can be used to filter down to Area A, Area B, and Area C.\n",
    "search = search.head(3)\n",
    "\n",
    "search"
   ]
  },
  {
   "cell_type": "markdown",
   "id": "bb54d8a7",
   "metadata": {},
   "source": [
    "***\n",
    "\n",
    "## Step 2: Pull data from Seeq into Data Lab\n",
    "\n",
    "Now that we have searched for the tags in Cooling Tower 1, let's **pull** the data into this jupyter notebook. Click the link for more information on [spy.pull](https://python-docs.seeq.com/user_guide/spy.pull.html#)"
   ]
  },
  {
   "cell_type": "code",
   "execution_count": null,
   "id": "81e1eb64",
   "metadata": {},
   "outputs": [],
   "source": [
    "my_data = spy.pull(items = search, \n",
    "    start='2022-01-01', \n",
    "    end='2022-01-07')\n",
    "\n",
    "my_data.head()"
   ]
  },
  {
   "cell_type": "markdown",
   "id": "25ef237d",
   "metadata": {},
   "source": [
    "<div class=\"alert alert-block alert-success\">\n",
    "<b>Instructor Note:</b> Seeq's calculation engine will interpolate to produce a uniform DataFrame with a default <tt> grid='15min'</tt>. Specify the grid parameter to control the granularity of the data. Specify <tt> grid=None </tt> if you want the raw data.  (ref Function Documentation) </div>\n",
    "\n",
    "**Optional Exercise:** Update sampling frequency to `grid='5min'` and the `start` and `end` time to the last 7 days.\n",
    "\n",
    "Let's take a peek at the data we pulled using the built in `DataFrame.plot()` function.\n",
    "\n",
    " "
   ]
  },
  {
   "cell_type": "code",
   "execution_count": null,
   "id": "c7e832b5",
   "metadata": {},
   "outputs": [],
   "source": [
    "my_data.plot()"
   ]
  },
  {
   "cell_type": "markdown",
   "id": "f8214355",
   "metadata": {},
   "source": [
    "Notice the outliers in Area C.  For the algorithm to calculate, the outliers will need to be removed. The engineers have provided a calculation using Seeq's [formula language](https://support.seeq.com/space/KB/54231048/Seeq+Formula+Language) to cleanse the temperature signals. \n",
    "\n",
    "<div class=\"alert alert-block alert-warning\">\n",
    "<b>Discussion Topic:</b> When should you make visualizations in Data Lab vs Workbench? \n",
    "    <details>\n",
    "    <summary>✼</summary>\n",
    "<i>Due to ease of use and because calculations update automatically as new data comes in, it is usually preferable to make visualizations in Workbench when possible (including trends, deviations from limits, aggregations and metrics, scatterplots, scorecard tables, bar graphs and histograms, predictions, and more).</i>\n",
    "</details>\n",
    "</div>\n",
    "\n",
    "\n",
    "\n",
    "<div class=\"alert alert-block alert-warning\">\n",
    "<b>Discussion Topic:</b> What is the difference between <tt>spy.pull()</tt> and <tt>spy.search()</tt>?\n",
    "    <details>\n",
    "  <summary>✼</summary>\n",
    "\n",
    "`spy.search()` <i> results in the name, description, unit of measure, datasource name, etc.\n",
    "    \n",
    "`spy.pull()` <i> results in the time stamps and corresponding signal values\n",
    "        \n",
    "#### Data vs Metadata\n",
    "\n",
    "There are two main types of information processed by Seeq: _Data_ and _metadata_:\n",
    "\n",
    "- **Data** is the time series and time interval information that is either collected or derived from sensor data. It consists of timestamps and values (samples), or time intervals and properties (capsules). This data can be plotted on a trend or used to train a neural network, for example.\n",
    "\n",
    "- **Metadata** is the information about the data, that is independent of a particular point in time or time interval. For example, a signal's _name_, _description_ and _unit of measure_ is classified as metadata; or the formula that is used to derive a new signal from one or more source signals; or the asset tree that is used to model similar equipment or industrial processes.\n",
    "    </details>\n",
    "</details>\n",
    "</div>\n",
    "\n",
    "\n",
    "\n",
    "***"
   ]
  },
  {
   "cell_type": "markdown",
   "id": "29a904ad",
   "metadata": {},
   "source": [
    "## Step 3: Pull data from Seeq and perform calculations in Data Lab\n",
    "\n",
    "Using `spy.pull()` you can apply calculations from Seeq's formula language at the same time as pulling the data. Apply the cleansing formula provided by the engineering team: `'$signal.remove(($signal < 0).merge(15min)).agilefilter(5min).tolinear(15min)'`"
   ]
  },
  {
   "cell_type": "code",
   "execution_count": null,
   "id": "17c80c8d",
   "metadata": {},
   "outputs": [],
   "source": [
    "my_calculated_data = spy.pull(items = search, \n",
    "    start='2022-01-01', \n",
    "    end='2022-01-07', \n",
    "    calculation='$signal.remove(($signal < 0).merge(15min)).agilefilter(5min).tolinear(15min)',\n",
    "    grid='5min', \n",
    "    header='Name')\n",
    "\n",
    "# Rename the calculated signals with an approrpiate description\n",
    "my_calculated_data = my_calculated_data.add_suffix('_Cleansed')\n",
    "\n",
    "my_calculated_data.head()"
   ]
  },
  {
   "cell_type": "markdown",
   "id": "80e94fc8",
   "metadata": {},
   "source": [
    "<div class=\"alert alert-block alert-success\">\n",
    "<b>Instructor Note:</b> When applying a calculation to a signal/condition/scalar, calculation must be a string with a single variable in it (ref Function Documentation).\n",
    "</div>"
   ]
  },
  {
   "cell_type": "code",
   "execution_count": null,
   "id": "f1c88d3b",
   "metadata": {},
   "outputs": [],
   "source": [
    "my_calculated_data.plot()"
   ]
  },
  {
   "cell_type": "markdown",
   "id": "8a8f02f0",
   "metadata": {},
   "source": [
    "***\n",
    "## Step 4: Push Calculated Data to Seeq\n",
    "Now, we can push the calculated data back to Seeq. Let's go to the workbench and view the data.\n",
    "\n",
    "Click the link for more information on [spy.push](https://python-docs.seeq.com/user_guide/spy.push.html#)"
   ]
  },
  {
   "cell_type": "code",
   "execution_count": null,
   "id": "31bd3727",
   "metadata": {},
   "outputs": [],
   "source": [
    "spy.push(data = my_calculated_data)"
   ]
  },
  {
   "cell_type": "markdown",
   "id": "601111d1",
   "metadata": {},
   "source": [
    "<div class=\"alert alert-block alert-warning\">\n",
    "<b>Discussion Topic:</b> What happens if you expand the display range in your new Workbench to 14 days?\n",
    "</div>\n",
    "\n",
    "<div class=\"alert alert-block alert-warning\">\n",
    "<b>Discussion Topic:</b> Where in Seeq did the data get pushed to? Why?\n",
    "    <details>    \n",
    "     <summary>✼</summary>\n",
    "<i>The default parameters for the workbook, worksheet, and datasource are:</i> <tt>workbook = 'Data Lab >> Data Lab Analysis', worksheet = 'From Data Lab', datasource = 'Seeq Data Lab'</tt><i>(see function documentation).\n",
    "    </details>\n",
    "</div>\n",
    "\n",
    "<div class=\"alert alert-block alert-info\">\n",
    "<b>Tip:</b> Saving the push_result data to a varaible allows you to troubleshoot the data within the table. For example, if pushes were not successful, we can filter on the Push Result column to find the problem.    \n",
    "</div>\n",
    "\n",
    "***\n",
    "\n",
    "## Step 5: Push Single Formula to Seeq\n",
    "In the previous step, we pushed data for a specified period. In this step, we will push the formula (or metadata) back to Seeq. Let’s push back the cleansed signal for Area C, to remove the outliers.\n",
    "\n",
    "\n",
    "Everything in Seeq has a unique ID attached to it.  If we look at the search dataframe we created, we can see the ID in the first column. We can manually use the ID for further calculations or find the ID programmatically using dataframes."
   ]
  },
  {
   "cell_type": "code",
   "execution_count": null,
   "id": "20f5cd6a",
   "metadata": {},
   "outputs": [],
   "source": [
    "search"
   ]
  },
  {
   "cell_type": "markdown",
   "id": "4d882436",
   "metadata": {},
   "source": [
    "<div class=\"alert alert-block alert-success\">\n",
    "<b>Instructor Note:</b> Go to workbench and investige the Item Properties for <tt>Area C_Temperature</tt>. Notice the item ID is the same as in the table above.\n",
    "</div>"
   ]
  },
  {
   "cell_type": "code",
   "execution_count": null,
   "id": "867c33ad",
   "metadata": {},
   "outputs": [],
   "source": [
    "# Filter the search data frame\n",
    "area_c_id = search[search['Name'] == 'Area C_Temperature']\n",
    "area_c_id"
   ]
  },
  {
   "cell_type": "code",
   "execution_count": null,
   "id": "0d064360",
   "metadata": {},
   "outputs": [],
   "source": [
    "# Push the formula by creating a datadrame\n",
    "spy.push(metadata = pd.DataFrame([{\n",
    "    'Name': 'Area C_Cleansed_formula',\n",
    "    'Formula': '$signal.remove(($signal < 0).merge(15min)).agilefilter(5min).tolinear(15min)',\n",
    "    'Formula Parameters': {'$signal':area_c_id}\n",
    "}]))"
   ]
  },
  {
   "cell_type": "markdown",
   "id": "eb31bb37",
   "metadata": {},
   "source": [
    "In this exercise we are pushing a single formula back to Seeq. In Exercise SDL.3, we will show you a simple way how to push formulas on multiple signals. \n",
    "\n",
    "<div class=\"alert alert-block alert-warning\">\n",
    "<b>Discussion Topic:</b> What happened to the cleansed data from SDL.1 - Step 4: Push Calculated Data to Seeq?\n",
    "    <details>    \n",
    "     <summary>✼</summary>\n",
    "<i>The default parameters for the workbook, worksheet, and datasource are:</i> <tt>workbook = 'Data Lab >> Data Lab Analysis', worksheet = 'From Data Lab', datasource = 'Seeq Data Lab'</tt><i>(see function documentation).  The worksheet will only display the content from the last</i> <tt>`spy.push()</tt><i>.  The content of previous pushes can still be found by searching for the signal names and/or the datasource. </i>\n",
    "    </details>\n",
    "</div>\n",
    "\n",
    "\n",
    "**Optional Exercise:** Search for Area A_Temperature_Cleansed in your workbench.\n",
    "\n",
    "**Optional Exercise:** Include the worksheet parameter in the spy.push code and re-push: `worksheet = 'Push Single Formula'`. \n",
    "\n",
    "<div class=\"alert alert-block alert-warning\">\n",
    "<b>Discussion Topic:</b> When would you push back data vs a formula? What is the best approach in this scenario?\n",
    "</div>\n",
    "\n",
    "***\n",
    "\n",
    "## Step 6: Push Multiple Formulas to Seeq (Optional)\n",
    "\n",
    "In the last step of this exercise, we use a data frame to push back multiple formulas, instead of only one formula at a time. This requires knowledge of python dataframes, which is not taught in this course. \n",
    "\n"
   ]
  },
  {
   "cell_type": "code",
   "execution_count": null,
   "id": "85f57656",
   "metadata": {},
   "outputs": [],
   "source": [
    "# Creates a copy of the search table so we can manipulate it\n",
    "formulas = search.copy()\n",
    "\n",
    "formulas"
   ]
  },
  {
   "cell_type": "markdown",
   "id": "bf125ba6",
   "metadata": {},
   "source": [
    "Using dataframes, we will rename the signals, supply the formula and provide the item ID. Notice the syntax required for the formula parameters `$signal = 'ID'`"
   ]
  },
  {
   "cell_type": "code",
   "execution_count": null,
   "id": "99199a36",
   "metadata": {},
   "outputs": [],
   "source": [
    "formulas['Name'] = formulas['Name'] + '_Cleansed_dataframe'\n",
    "formulas['Formula'] = '$signal.remove(($signal < 0).merge(15min)).agilefilter(5min).tolinear(15min)'\n",
    "formulas['Formula Parameters'] = '$signal=' + formulas['ID']"
   ]
  },
  {
   "cell_type": "markdown",
   "id": "c88a5dee",
   "metadata": {},
   "source": [
    "<div class=\"alert alert-block alert-success\">\n",
    "<b>Instructor Note:</b> Compare the original search table and the new formula table. See the addition of the Formula and Formula Parameters column, and the updated Name column.</div>\n",
    "\n",
    "In Jupyter Notebooks `$` are used to format text to *italics*. If you look at the formula in the table above, the `$` are missing and the text is formatted to italics.\n",
    "\n"
   ]
  },
  {
   "cell_type": "code",
   "execution_count": null,
   "id": "5d7aced5",
   "metadata": {},
   "outputs": [],
   "source": [
    "spy.push(metadata = formulas[['Name', 'Formula', 'Formula Parameters']],\n",
    "         worksheet='Push Multiple Formulas')"
   ]
  },
  {
   "cell_type": "markdown",
   "id": "c7b8321c",
   "metadata": {},
   "source": [
    "<div class=\"alert alert-block alert-info\">\n",
    "    <b>Tip:</b> Refresh ↻ your workbench screen to see results from a push to a new worksheet (or click link directly from Juypter notebook). \n",
    "</div>"
   ]
  },
  {
   "cell_type": "markdown",
   "id": "4d8e60f3",
   "metadata": {},
   "source": [
    "***\n",
    "## SDL.1 Summary\n",
    "\n",
    "The steps above have been combined into two summary cells. One block for pushing data to Seeq and the second for pushing formulas back to seeq. This summary code performs the same actions, with slight modifications for Cooling Tower 2. \n",
    "\n",
    "\n",
    "### Push Data to Seeq"
   ]
  },
  {
   "cell_type": "code",
   "execution_count": null,
   "id": "98e13962",
   "metadata": {},
   "outputs": [],
   "source": [
    "# Step 1: Search for data from Seeq\n",
    "search = spy.search(query = {'Datasource Name': 'Example Data',\n",
    "                     'Name': \"Area ?_Temperature\"})\n",
    "search2 = search[search['Name'].str.contains('D|E')]\n",
    "\n",
    "# Step 3: Pull data from Seeq and perform calculations in Data Lab\n",
    "my_calculated_data2 = spy.pull(\n",
    "    items = search2, \n",
    "    start='2022-01-01', \n",
    "    end='2022-01-07', \n",
    "    calculation='$signal.remove(($signal < 0).merge(15min)).agilefilter(5min).tolinear(15min)',\n",
    "    grid='5min', \n",
    "    header='Name')\n",
    "my_calculated_data2 = my_calculated_data2.add_suffix('_Cleansed')\n",
    "\n",
    "# Step 4: Push Calculated Data to Seeq\n",
    "spy.push(data = my_calculated_data2, worksheet='Push Calculated Data CT2')"
   ]
  },
  {
   "cell_type": "markdown",
   "id": "2952f916",
   "metadata": {},
   "source": [
    "### Push Metadata to Seeq"
   ]
  },
  {
   "cell_type": "code",
   "execution_count": null,
   "id": "63230cd9",
   "metadata": {},
   "outputs": [],
   "source": [
    "# Step 1: Search for data from Seeq\n",
    "search = spy.search(query = {'Datasource Name': 'Example Data',\n",
    "                     'Name': \"Area ?_Temperature\"})\n",
    "search2 = search[search['Name'].str.contains('D|E')]\n",
    "\n",
    "# Step 6: Create Data Frame\n",
    "formulas = search2.copy()\n",
    "formulas['Formula'] ='$signal.remove(($signal < 0).merge(15min)).agilefilter(5min).tolinear(15min)'\n",
    "formulas['Name'] = formulas['Name'] + '_Cleansed_dataframe'\n",
    "formulas['Formula Parameters'] = '$signal=' + formulas['ID']\n",
    "\n",
    "# Step 6: Push Multiple Formulas to Seeq\n",
    "spy.push(metadata = formulas[['Name', 'Formula', 'Formula Parameters']],\n",
    "         worksheet='Push Multiple Formulas CT2')"
   ]
  }
 ],
 "metadata": {
  "kernelspec": {
   "display_name": "Python 3 (ipykernel)",
   "language": "python",
   "name": "python3"
  },
  "language_info": {
   "codemirror_mode": {
    "name": "ipython",
    "version": 3
   },
   "file_extension": ".py",
   "mimetype": "text/x-python",
   "name": "python",
   "nbconvert_exporter": "python",
   "pygments_lexer": "ipython3",
   "version": "3.8.13"
  }
 },
 "nbformat": 4,
 "nbformat_minor": 5
}
