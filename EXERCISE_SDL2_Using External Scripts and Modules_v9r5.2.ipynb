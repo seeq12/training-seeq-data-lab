{
 "cells": [
  {
   "cell_type": "markdown",
   "id": "fad45cf8",
   "metadata": {},
   "source": [
    "# SDL.2 Using External Scripts & Modules \n",
    "\n",
    "### Objective: Learn how to apply an external script on data within Data Lab. Once the script is applied, send the calculated data to Workbench.\n",
    "\n",
    "### Scenario:You have developed an algorithm to calculate the health of a Cooling Tower based on temperature data within each area.  In the second step, you will apply the `complex_health_score` function on the temperature data to get a health score for the Cooling Towers.\n",
    "\n",
    "\n",
    "## Step 1: Upload Script to the Directory\n",
    "\n",
    "Upload the `advanced_datascience_algorithms.py` script to the directory we are working in. Then, import it into our current notebook as shown below.\n"
   ]
  },
  {
   "cell_type": "code",
   "execution_count": null,
   "id": "af4a34e6",
   "metadata": {},
   "outputs": [],
   "source": [
    "import advanced_datascience_algorithms as ada"
   ]
  },
  {
   "cell_type": "markdown",
   "id": "a4feacbc",
   "metadata": {},
   "source": [
    "<div class=\"alert alert-block alert-info\">\n",
    "<b>Tip:</b> If the script is frequently used, you can package it as a module and install across multiple Projects.\n",
    "</div>\n",
    "\n",
    "***\n",
    "\n",
    "## Step 2: Pull data in Data Lab from a Worksheet \n",
    "\n",
    "The Data Science/Engineering Team has informed us that the Health Score Algorithm requires Temperature tags for all Areas in a Cooling Tower. \n",
    "\n",
    "In SDL.1 the required data was created for Cooling Tower 1.Update the display range to the last 7 days and copy the URL for <tt>Push Calculated Data</tt> (or <tt>Push Multiple Formulas</tt> worksheet). \n",
    "\n",
    "If you did not complete SDL.1, perform the following steps:\n",
    "1. Open a new Workbench\n",
    "2. Add `Area A_Temperature`, `Area B_Temperature`, `Area C_Temperature` signals from the `datasource='Example Data'`\n",
    "3. (Optional): Cleanse `Area C_Temperature` using formula: `$signal.remove((($signal < 0).merge(15min))).agilefilter(5min)`"
   ]
  },
  {
   "cell_type": "code",
   "execution_count": null,
   "id": "cfbf59b3",
   "metadata": {},
   "outputs": [],
   "source": [
    "workbook_url = 'PASTE URL HERE'\n",
    "\n",
    "cleansed_data = spy.pull(workbook_url,grid='12h')\n",
    "cleansed_data.head()"
   ]
  },
  {
   "cell_type": "markdown",
   "id": "25ee3c52",
   "metadata": {},
   "source": [
    "<div class=\"alert alert-block alert-warning\">\n",
    "    <b>Discussion Topic:</b> What will be the data range of this <tt>spy.pull()</tt>? How can we change it?\n",
    "</div>\n",
    " \n",
    "\n",
    "In SDL.1, we used a dictionary to perform the search before we pulled the data. In this case we are using the URL of the workbench in string form to search for the signals and pull the data in one step."
   ]
  },
  {
   "cell_type": "markdown",
   "id": "679af4f0",
   "metadata": {},
   "source": [
    "***\n",
    "\n",
    "## Step 3: Call the `complex_health_score` function\n",
    "Call the `complex_health_score` function  in ada and store the results as `health_score`"
   ]
  },
  {
   "cell_type": "code",
   "execution_count": null,
   "id": "99e252e4",
   "metadata": {},
   "outputs": [],
   "source": [
    "health_score = ada.complex_health_score(cleansed_data)\n",
    "\n",
    "#Renames the name of the signal output\n",
    "health_score = health_score.rename(columns={'Health Score':'CT1 Health Score'})\n",
    "\n",
    "# See the top 5 rows of the data table\n",
    "health_score.head()"
   ]
  },
  {
   "cell_type": "markdown",
   "id": "e42df525",
   "metadata": {},
   "source": [
    "***\n",
    "## Step 4: Push the Health Score back to Seeq\n",
    "\n",
    "Push the `health_score` calculated using the algorithm from the Engineering/Data Science Team back into Seeq, where it can be used, for instance, in a dashboard."
   ]
  },
  {
   "cell_type": "code",
   "execution_count": null,
   "id": "ef9c236e",
   "metadata": {},
   "outputs": [],
   "source": [
    "spy.push(data = health_score, worksheet='Health Score')"
   ]
  },
  {
   "cell_type": "markdown",
   "id": "c2763c53",
   "metadata": {},
   "source": [
    "<div class=\"alert alert-block alert-warning\">\n",
    "    <b>Discussion Topic:</b> When should you perform calculations in Workbench vs Data Lab?\n",
    "</div>\n",
    "\n",
    "***\n",
    "\n",
    "## Step 5: Schedule job to Run Periodically (Optional) \n",
    "\n",
    "The `spy.job` schedules the notebook to run in the background periodically. Click the link for more information on [spy.jobs](https://python-docs.seeq.com/user_guide/spy.jobs.html)\n",
    "\n",
    "Let's rerun this calculation every 7 days to view the new data.\n",
    " \n",
    "<div class=\"alert alert-block alert-danger\">\n",
    "⚠<b> Warning </b>⚠ Scheduling jobs should be done with great care. Jobs consume CPU, memory, and disk space resources and can easily cause degraded performance on Seeq Server, Seeq Data Lab or an external system that you may be accessing.\n",
    "</div>\n",
    "\n",
    "<div class=\"alert alert-block alert-info\">\n",
    "<b>Tip:</b> If you are scheduling anything to run more frequent than every 15 minutes, discuss it with your Seeq administrator.\n",
    "</div>\n",
    "\n"
   ]
  },
  {
   "cell_type": "code",
   "execution_count": null,
   "id": "7f403d2d",
   "metadata": {},
   "outputs": [],
   "source": [
    "spy.jobs.schedule('every 7 days')\n",
    "\n",
    "# The following line will cause the job to be unscheduled after the first time it runs.\n",
    "# This is done so we dont use unnecessary resources on the learn server.\n",
    "spy.jobs.unschedule()"
   ]
  },
  {
   "cell_type": "markdown",
   "id": "cdcc1259",
   "metadata": {},
   "source": [
    "***\n",
    "\n",
    "## SDL.2: Summary\n",
    "\n",
    "<div class=\"alert alert-block alert-warning\">\n",
    "    <b>Discussion Topic:</b> Are you a data scientist or do you work with a data scientist? How can you use example in your organization?\n",
    "        <details>    \n",
    "     <summary>✼</summary>\n",
    "<i>This example demonstrates how data science teams can collaborate with engineering for code-based analysis.  An algorithm can be developed outside of Seeq and the results can be returned to Workbench and Organizer to be viewed by engineers, operators, leadership, and others.  This workflow effectively operationalizes data science/code products and streamlines cooperation between these distinct groups within your organization.</i>\n",
    "    </details>       \n",
    "</div>\n",
    "\n",
    "The 4 steps above have been combined into one cell.  In this cell block, we will calculate the health score for Cooling Tower 2.  Copy the workbench created from **SDL.1 Summary** titled Push Multiple Formulas CT2. \n"
   ]
  },
  {
   "cell_type": "code",
   "execution_count": null,
   "id": "d053bd61",
   "metadata": {},
   "outputs": [],
   "source": [
    "# Step 1: Upload Script to the Directory\n",
    "import advanced_datascience_algorithms as ada\n",
    "\n",
    "## Step 2: Pull data in Data Lab from a Worksheet \n",
    "cleansed_data = spy.pull('PASTE URL HERE',grid='12hr')\n",
    "\n",
    "# Step 3: Call the `complex_health_score` function\n",
    "health_score = ada.complex_health_score(cleansed_data)\n",
    "health_score = health_score.rename(columns={'Health Score':'CT2 Health Score'})\n",
    "\n",
    "#Step 4: Push the Health Score back to Seeq\n",
    "spy.push(data=health_score, worksheet='Health Score')\n",
    "\n",
    "#Step 5: Schedule job to Run Periodically"
   ]
  },
  {
   "cell_type": "markdown",
   "id": "31615fb4",
   "metadata": {},
   "source": [
    "### Bonus: Perform a `spy.search()` on a URL\n",
    "\n",
    "\n",
    "<div class=\"alert alert-block alert-warning\">\n",
    "    <b> Discussion Topic:</b> What is the difference between the output of a <tt>spy.search()</tt> when using a URL compared to a dictionary of query parameters?\n",
    "</div>\n",
    " "
   ]
  },
  {
   "cell_type": "code",
   "execution_count": null,
   "id": "079d8c2b",
   "metadata": {},
   "outputs": [],
   "source": [
    "cleansed_signals = spy.search(workbook_url)\n",
    "cleansed_signals.head()"
   ]
  }
 ],
 "metadata": {
  "kernelspec": {
   "display_name": "Python 3 (ipykernel)",
   "language": "python",
   "name": "python3"
  },
  "language_info": {
   "codemirror_mode": {
    "name": "ipython",
    "version": 3
   },
   "file_extension": ".py",
   "mimetype": "text/x-python",
   "name": "python",
   "nbconvert_exporter": "python",
   "pygments_lexer": "ipython3",
   "version": "3.8.13"
  }
 },
 "nbformat": 4,
 "nbformat_minor": 5
}
